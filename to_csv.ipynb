{
 "cells": [
  {
   "cell_type": "code",
   "execution_count": 1,
   "metadata": {},
   "outputs": [],
   "source": [
    "import os\n",
    "import pandas as pd\n",
    "import openpyxl"
   ]
  },
  {
   "cell_type": "code",
   "execution_count": 2,
   "metadata": {},
   "outputs": [],
   "source": [
    "file = '플랫폼 입력자료_gs칼텍스_v1.2.xlsx'\n",
    "xls = pd.ExcelFile(file)"
   ]
  },
  {
   "cell_type": "code",
   "execution_count": 3,
   "metadata": {},
   "outputs": [
    {
     "name": "stdout",
     "output_type": "stream",
     "text": [
      "C1 READ\n",
      "C1 WRITE\n",
      "C2 READ\n",
      "C2 WRITE\n",
      "C3 READ\n",
      "C3 WRITE\n",
      "C4 READ\n",
      "C4 WRITE\n",
      "C5 READ\n",
      "C5 WRITE\n",
      "C6 READ\n",
      "C6 WRITE\n",
      "C7 READ\n",
      "C7 WRITE\n",
      "C8 READ\n",
      "C8 WRITE\n",
      "C9 READ\n",
      "C9 WRITE\n",
      "C10 READ\n",
      "C10 WRITE\n",
      "C11 READ\n",
      "C11 WRITE\n",
      "C12 READ\n",
      "C12 WRITE\n",
      "C13 READ\n",
      "C13 WRITE\n",
      "C14 READ\n",
      "C14 WRITE\n",
      "C15 READ\n",
      "C15 WRITE\n"
     ]
    }
   ],
   "source": [
    "for sheet_name in xls.sheet_names:\n",
    "    df = pd.read_excel(file, sheet_name=sheet_name)\n",
    "    print(f'{sheet_name} READ')\n",
    "\n",
    "    csv_filename = f'{sheet_name}.csv'\n",
    "    df.to_csv(f'data/{csv_filename}', index=False, encoding='cp949')\n",
    "    print(f'{sheet_name} WRITE')"
   ]
  },
  {
   "cell_type": "code",
   "execution_count": null,
   "metadata": {},
   "outputs": [],
   "source": []
  }
 ],
 "metadata": {
  "kernelspec": {
   "display_name": "venv",
   "language": "python",
   "name": "python3"
  },
  "language_info": {
   "codemirror_mode": {
    "name": "ipython",
    "version": 3
   },
   "file_extension": ".py",
   "mimetype": "text/x-python",
   "name": "python",
   "nbconvert_exporter": "python",
   "pygments_lexer": "ipython3",
   "version": "3.11.1"
  },
  "orig_nbformat": 4
 },
 "nbformat": 4,
 "nbformat_minor": 2
}
